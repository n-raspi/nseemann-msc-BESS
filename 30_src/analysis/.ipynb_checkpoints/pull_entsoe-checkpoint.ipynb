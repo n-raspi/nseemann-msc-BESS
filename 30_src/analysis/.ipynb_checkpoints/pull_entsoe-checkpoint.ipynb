{
 "cells": [
  {
   "cell_type": "markdown",
   "id": "079ea1bb-cd7b-4b9e-92ed-fbb7348376fc",
   "metadata": {},
   "source": [
    "## Pulls day-ahead market data from Entsoe transparency platform"
   ]
  },
  {
   "cell_type": "code",
   "execution_count": null,
   "id": "edb9553c-f66e-4271-b3a3-547a22025634",
   "metadata": {
    "collapsed": true,
    "jupyter": {
     "outputs_hidden": true,
     "source_hidden": true
    }
   },
   "outputs": [],
   "source": [
    "# import urllib.request\n",
    "\n",
    "# #Switzerland 60min (2016-2024)\n",
    "# pref = \"https://transparency.entsoe.eu/transmission-domain/r2/dayAheadPrices/export?name=&defaultValue=false&viewType=TABLE&areaType=BZN&atch=false&dateTime.dateTime=16.09.\"\n",
    "# suff = \"+00%3A00%7CCET%7CDAY&biddingZone.values=CTY%7C10YCH-SWISSGRIDZ!BZN%7C10YCH-SWISSGRIDZ&resolution.values=PT60M&dateTime.timezone=CET_CEST&dateTime.timezone_input=CET+(UTC%2B1)+%2F+CEST+(UTC%2B2)&dataItem=ALL&timeRange=YEAR&exportType=CSV\"\n",
    "\n",
    "# for i in range(2016, 2025):\n",
    "#     print(pref + str(i) + suff)\n",
    "\n",
    "# #Germany (DE-AT-LU) 60min (2015-2018)\n",
    "# pref = \"https://transparency.entsoe.eu/transmission-domain/r2/dayAheadPrices/export?name=&defaultValue=false&viewType=TABLE&areaType=BZN&atch=false&dateTime.dateTime=01.09.\"\n",
    "# suff = \"+00%3A00%7CCET%7CDAY&biddingZone.values=CTY%7C10Y1001A1001A83F!BZN%7C10Y1001A1001A63L&resolution.values=PT60M&dateTime.timezone=CET_CEST&dateTime.timezone_input=CET+(UTC%2B1)+%2F+CEST+(UTC%2B2)&dataItem=ALL&timeRange=YEAR&exportType=CSV\"\n",
    "\n",
    "# for i in range(2015, 2019):\n",
    "#     print(pref + str(i) + suff)\n",
    "\n",
    "# #Germany (DE-LU) 60min (2018-2024)\n",
    "# pref = \"https://transparency.entsoe.eu/transmission-domain/r2/dayAheadPrices/export?name=&defaultValue=false&viewType=TABLE&areaType=BZN&atch=false&dateTime.dateTime=16.09.\"\n",
    "# suff = \"+00%3A00%7CCET%7CDAY&biddingZone.values=CTY%7C10Y1001A1001A83F!BZN%7C10Y1001A1001A82H&resolution.values=PT60M&dateTime.timezone=CET_CEST&dateTime.timezone_input=CET+(UTC%2B1)+%2F+CEST+(UTC%2B2)&dataItem=ALL&timeRange=YEAR&exportType=CSV\"\n",
    "\n",
    "# for i in range(2018, 2025):\n",
    "#     print(pref + str(i) + suff)\n",
    "\n",
    "# #Spain 60min (2015-2024)\n",
    "\n",
    "# pref = \"https://transparency.entsoe.eu/transmission-domain/r2/dayAheadPrices/export?name=&defaultValue=false&viewType=TABLE&areaType=BZN&atch=false&dateTime.dateTime=16.09.\"\n",
    "# suff = \"+00%3A00%7CCET%7CDAY&biddingZone.values=CTY%7C10YES-REE------0!BZN%7C10YES-REE------0&resolution.values=PT60M&dateTime.timezone=CET_CEST&dateTime.timezone_input=CET+(UTC%2B1)+%2F+CEST+(UTC%2B2)&dataItem=ALL&timeRange=YEAR&exportType=CSV\"\n",
    "\n",
    "# for i in range(2015, 2025):\n",
    "#     print(pref + str(i) + suff)\n",
    "\n",
    "# #Italy\n",
    "# #Spain 60min (2015-2024)\n",
    "\n",
    "# pref = \"https://transparency.entsoe.eu/transmission-domain/r2/dayAheadPrices/export?name=&defaultValue=false&viewType=TABLE&areaType=BZN&atch=false&dateTime.dateTime=16.09.\"\n",
    "# suff = \"+00%3A00%7CCET%7CDAY&biddingZone.values=CTY%7C10YIT-GRTN-----B!BZN%7C10Y1001A1001A71M&resolution.values=PT60M&dateTime.timezone=CET_CEST&dateTime.timezone_input=CET+(UTC%2B1)+%2F+CEST+(UTC%2B2)&dataItem=ALL&timeRange=YEAR&exportType=CSV\"\n",
    "\n",
    "# for i in range(2015, 2025):\n",
    "#     print(pref + str(i) + suff)"
   ]
  },
  {
   "cell_type": "markdown",
   "id": "3e7eea47-8501-4c61-8b1f-335e578ce53f",
   "metadata": {},
   "source": [
    "## Check data range for day-ahead ENTSO-e data"
   ]
  },
  {
   "cell_type": "code",
   "execution_count": 3,
   "id": "5c6a7752-a2da-4d86-9b2e-f0b3f634a3c3",
   "metadata": {},
   "outputs": [],
   "source": [
    "import pandas as pd\n",
    "pd.set_option(\"future.no_silent_downcasting\", True)\n",
    "import numpy as np\n",
    "import os"
   ]
  },
  {
   "cell_type": "code",
   "execution_count": 4,
   "id": "46917846-d8b4-4e81-9b56-152e4aa3c7d1",
   "metadata": {},
   "outputs": [],
   "source": [
    "# Main ENTSO-e data folder\n",
    "data_folder = '/../../20_data/entsoe_data/DE'\n",
    "\n",
    "# Subfolders\n",
    "DA_15min_DE_LU = '/DA_15min/DE-LU/'#Day-ahead Prices_' \n",
    "DA_60min_DE_LU = '/DA_60min/DE-LU/'#Day-ahead Prices_'\n",
    "DA_60min_DE_AT_LU = '/DA_60min/DE-AT-LU/'#Day-ahead Prices_'"
   ]
  },
  {
   "cell_type": "code",
   "execution_count": 5,
   "id": "bdb0258e-f1e9-4bbc-9fc1-d9cc9d223694",
   "metadata": {},
   "outputs": [],
   "source": [
    "def date_range(product, offset):\n",
    "    series_DA_aggregated = pd.Series()\n",
    "    se = pd.Series(os.listdir(data_folder+product))\n",
    "    start_years = se[se.str.contains('Day-ahead Prices_')].str.slice(17,21).sort_values() # Get files that follow pattern and sort by year\n",
    "    for i in start_years:\n",
    "        df_DA = pd.read_csv(data_folder+product+ f'Day-ahead Prices_{i}01010000-{str(int(i)+1)}01010000.csv') # Get year file\n",
    "        # Drop completely empty columns and columns 'Currency' and set index to time\n",
    "        df_DA = df_DA.drop(columns=['Currency']).dropna(axis=1, how='all').set_index('MTU (CET/CEST)')\n",
    "        df_DA.index = pd.to_datetime(df_DA.index.str.slice(0,16), format=\"%d.%m.%Y %H:%M\")\n",
    "        if len(df_DA.columns) != 0: #If there's still a columns\n",
    "            # Convert all non numbers and dots to nans and dropna\n",
    "            df_DA[df_DA.columns[0]] = df_DA[df_DA.columns[0]].replace('^[^0-9.]+$', np.nan, regex=True).astype(float)\n",
    "            df_DA.dropna(inplace=True)\n",
    "            series_DA = df_DA.squeeze() # Convert to series\n",
    "            if not(series_DA_aggregated.empty): #If there are values in aggregated, add current series\n",
    "                series_DA_aggregated = pd.concat([series_DA_aggregated,series_DA])\n",
    "            else: #Else define as the current DA timeseries\n",
    "                series_DA_aggregated = series_DA\n",
    "    # Offset for plotting multiple\n",
    "    # (series_DA_aggregated + offset).plot(title = '')\n",
    "    # print(min(series_DA_aggregated.index))\n",
    "    # print(max(series_DA_aggregated.index))\n",
    "    return series_DA_aggregated"
   ]
  },
  {
   "cell_type": "code",
   "execution_count": 7,
   "id": "297e8a4d-5f03-4197-9c94-e0ebc236bd39",
   "metadata": {},
   "outputs": [
    {
     "ename": "FileNotFoundError",
     "evalue": "[Errno 2] No such file or directory: '../../20_data/entsoe_data/DE/DA_60min/DE-AT-LU/'",
     "output_type": "error",
     "traceback": [
      "\u001b[0;31m---------------------------------------------------------------------------\u001b[0m",
      "\u001b[0;31mFileNotFoundError\u001b[0m                         Traceback (most recent call last)",
      "Cell \u001b[0;32mIn[7], line 1\u001b[0m\n\u001b[0;32m----> 1\u001b[0m series_DA_aggregated \u001b[38;5;241m=\u001b[39m \u001b[43mdate_range\u001b[49m\u001b[43m(\u001b[49m\u001b[43mDA_60min_DE_AT_LU\u001b[49m\u001b[43m,\u001b[49m\u001b[43m \u001b[49m\u001b[38;5;241;43m0\u001b[39;49m\u001b[43m)\u001b[49m\n\u001b[1;32m      3\u001b[0m \u001b[38;5;66;03m# series_DA_aggregated = date_range(DA_60min_DE_LU, 0)\u001b[39;00m\n\u001b[1;32m      4\u001b[0m \n\u001b[1;32m      5\u001b[0m \u001b[38;5;66;03m# series_DA_aggregated = date_range(DA_15min_DE_LU, 0)\u001b[39;00m\n\u001b[1;32m      6\u001b[0m \n\u001b[1;32m      7\u001b[0m \u001b[38;5;66;03m# Check length of index vs timerange to see missing values\u001b[39;00m\n\u001b[1;32m      8\u001b[0m \u001b[38;5;28mprint\u001b[39m(\u001b[38;5;28mlen\u001b[39m(series_DA_aggregated))\n",
      "Cell \u001b[0;32mIn[5], line 3\u001b[0m, in \u001b[0;36mdate_range\u001b[0;34m(product, offset)\u001b[0m\n\u001b[1;32m      1\u001b[0m \u001b[38;5;28;01mdef\u001b[39;00m \u001b[38;5;21mdate_range\u001b[39m(product, offset):\n\u001b[1;32m      2\u001b[0m     series_DA_aggregated \u001b[38;5;241m=\u001b[39m pd\u001b[38;5;241m.\u001b[39mSeries()\n\u001b[0;32m----> 3\u001b[0m     se \u001b[38;5;241m=\u001b[39m pd\u001b[38;5;241m.\u001b[39mSeries(\u001b[43mos\u001b[49m\u001b[38;5;241;43m.\u001b[39;49m\u001b[43mlistdir\u001b[49m\u001b[43m(\u001b[49m\u001b[43mdata_folder\u001b[49m\u001b[38;5;241;43m+\u001b[39;49m\u001b[43mproduct\u001b[49m\u001b[43m)\u001b[49m)\n\u001b[1;32m      4\u001b[0m     start_years \u001b[38;5;241m=\u001b[39m se[se\u001b[38;5;241m.\u001b[39mstr\u001b[38;5;241m.\u001b[39mcontains(\u001b[38;5;124m'\u001b[39m\u001b[38;5;124mDay-ahead Prices_\u001b[39m\u001b[38;5;124m'\u001b[39m)]\u001b[38;5;241m.\u001b[39mstr\u001b[38;5;241m.\u001b[39mslice(\u001b[38;5;241m17\u001b[39m,\u001b[38;5;241m21\u001b[39m)\u001b[38;5;241m.\u001b[39msort_values() \u001b[38;5;66;03m# Get files that follow pattern and sort by year\u001b[39;00m\n\u001b[1;32m      5\u001b[0m     \u001b[38;5;28;01mfor\u001b[39;00m i \u001b[38;5;129;01min\u001b[39;00m start_years:\n",
      "\u001b[0;31mFileNotFoundError\u001b[0m: [Errno 2] No such file or directory: '../../20_data/entsoe_data/DE/DA_60min/DE-AT-LU/'"
     ]
    }
   ],
   "source": [
    "series_DA_aggregated = date_range(DA_60min_DE_AT_LU, 0)\n",
    "\n",
    "# series_DA_aggregated = date_range(DA_60min_DE_LU, 0)\n",
    "\n",
    "# series_DA_aggregated = date_range(DA_15min_DE_LU, 0)\n",
    "\n",
    "# Check length of index vs timerange to see missing values\n",
    "print(len(series_DA_aggregated))\n",
    "print(((max(series_DA_aggregated.index)-min(series_DA_aggregated.index))/pd.Timedelta('1h')))\n",
    "print(((max(series_DA_aggregated.index)-min(series_DA_aggregated.index))/pd.Timedelta('0.25h')))"
   ]
  },
  {
   "cell_type": "code",
   "execution_count": null,
   "id": "af70098e",
   "metadata": {},
   "outputs": [],
   "source": []
  }
 ],
 "metadata": {
  "kernelspec": {
   "display_name": "energy_modelling",
   "language": "python",
   "name": "python3"
  },
  "language_info": {
   "codemirror_mode": {
    "name": "ipython",
    "version": 3
   },
   "file_extension": ".py",
   "mimetype": "text/x-python",
   "name": "python",
   "nbconvert_exporter": "python",
   "pygments_lexer": "ipython3",
   "version": "3.12.6"
  }
 },
 "nbformat": 4,
 "nbformat_minor": 5
}
