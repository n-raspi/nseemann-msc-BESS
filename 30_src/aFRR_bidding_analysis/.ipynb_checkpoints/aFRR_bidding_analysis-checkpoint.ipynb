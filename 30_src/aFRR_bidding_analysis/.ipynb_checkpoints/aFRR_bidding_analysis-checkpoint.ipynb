{
 "cells": [
  {
   "cell_type": "code",
   "execution_count": 1,
   "id": "8639d018-74f2-44e2-b046-2c2db59bc1c6",
   "metadata": {},
   "outputs": [],
   "source": [
    "import pandas as pd\n",
    "import csv"
   ]
  },
  {
   "cell_type": "code",
   "execution_count": 8,
   "id": "fca7040e-ea61-4c49-ace6-0ae8ece92b1b",
   "metadata": {},
   "outputs": [
    {
     "name": "stderr",
     "output_type": "stream",
     "text": [
      "/Users/nicolas/miniforge3/envs/analysis/lib/python3.12/site-packages/openpyxl/styles/stylesheet.py:241: UserWarning: Workbook contains no default style, apply openpyxl's default\n",
      "  warn(\"Workbook contains no default style, apply openpyxl's default\")\n"
     ]
    }
   ],
   "source": [
    "# Importing files (just once because it takes LOOOOOOOOONG)\n",
    "\n",
    "# Results (not that useful)\n",
    "results_june_2024 = pd.read_excel('../../20_data/regelleistung/RESULT_OVERVIEW_ENERGY_MARKET_aFRR_2024-06-01_2024-06-30.xlsx')\n",
    "\n",
    "# Only goes up to 2024-06-11\n",
    "#bids_june_2024_import = pd.read_excel('../../20_data/regelleistung/RESULT_LIST_ANONYM_ENERGY_MARKET_aFRR_2024-06-01_2024-06-30.xlsx')\n",
    "#bids_june_2024_import.to_csv('../../20_data/regelleistung/RESULT_LIST_ANONYM_ENERGY_MARKET_aFRR_2024-06-01_2024-06-30.csv')\n",
    "bids_june_2024_import = pd.read_csv('../../20_data/regelleistung/RESULT_LIST_ANONYM_ENERGY_MARKET_aFRR_2024-06-01_2024-06-30.csv',low_memory=False)\n",
    "bids_june_2024_import.drop(columns=['Unnamed: 0'], inplace=True)\n",
    "\n",
    "# Whole month\n",
    "activated_all_time_import = pd.read_csv('../../20_data/netztransparenz/Aktivierte aFRR qualitaetsgesichert [2024-09-26 15-50-49].csv', delimiter = ';')"
   ]
  },
  {
   "cell_type": "code",
   "execution_count": 9,
   "id": "de8ca036-ffb6-47f3-a515-3169ec130458",
   "metadata": {},
   "outputs": [],
   "source": [
    "# Preparing activation data\n",
    "\n",
    "activated_all_time = activated_all_time_import.copy()\n",
    "activated_all_time.Datum = pd.to_datetime(activated_all_time.Datum, format = \"%d.%m.%Y\")\n",
    "\n",
    "#Only 01-11 June 2024\n",
    "activated_june_2024 = activated_all_time[(activated_all_time.Datum.dt.month == 6) & (activated_all_time.Datum.dt.year == 2024) & (activated_all_time.Datum.dt.day <= 11)]\n",
    "\n",
    "# Remove TSO specific columns, add product names, replace commas with dots, rename columns\n",
    "activated_june_2024 = activated_june_2024.drop(columns = ['50Hertz (Positiv)','Amprion (Positiv)', 'TenneT TSO (Positiv)', 'TransnetBW (Positiv)','50Hertz (Negativ)', 'Amprion (Negativ)','TenneT TSO (Negativ)', 'TransnetBW (Negativ)'])\n",
    "activated_june_2024['product_time'] = activated_june_2024.von.apply(lambda x: x.split(':')).apply(lambda x: int((4*int(x[0])) +(int(x[1])/15)+1)).apply(lambda x: (3-len(str(x)))*'0' + str(x))\n",
    "activated_june_2024['Deutschland (Positiv)'] = activated_june_2024['Deutschland (Positiv)'].apply(lambda x: x.replace(',','.'))\n",
    "activated_june_2024['Deutschland (Negativ)'] = activated_june_2024['Deutschland (Negativ)'].apply(lambda x: x.replace(',','.'))\n",
    "activated_june_2024.rename(columns = {'Deutschland (Positiv)':'POS', 'Deutschland (Negativ)':'NEG'}, inplace = True)\n",
    "\n",
    "#Separating Neg and Pos products into separate rows\n",
    "activated_june_2024['time_prod_NEG'] = 'NEG_' + activated_june_2024['product_time'] \n",
    "activated_june_2024['time_prod_POS'] = 'POS_' + activated_june_2024['product_time']\n",
    "NEG = activated_june_2024.rename(columns={'time_prod_NEG':'prod'}).set_index(['Datum','prod']).drop(columns = ['POS']).rename(columns={'NEG':'ACTIVATED'}).drop(columns=['time_prod_POS'])\n",
    "POS = activated_june_2024.rename(columns={'time_prod_POS':'prod'}).set_index(['Datum','prod']).drop(columns = ['NEG']).rename(columns={'POS':'ACTIVATED'}).drop(columns=['time_prod_NEG'])\n",
    "combined_activated = pd.concat([NEG,POS])"
   ]
  },
  {
   "cell_type": "code",
   "execution_count": 47,
   "id": "54638319-c63f-4a5d-a94a-cafd1ec1d6ca",
   "metadata": {},
   "outputs": [],
   "source": [
    "# Preparing bidding data\n",
    "\n",
    "bids_june_2024 = bids_june_2024_import.copy()\n",
    "bids_june_2024['DELIVERY_DATE'] = pd.to_datetime(bids_june_2024.DELIVERY_DATE,format = \"%Y-%m-%d\")\n",
    "\n",
    "# Translate payment direction into sign for price\n",
    "bids_june_2024['ENERGY_PRICE_[EUR/MWh]'] = bids_june_2024['ENERGY_PRICE_[EUR/MWh]']*(((bids_june_2024['ENERGY_PRICE_PAYMENT_DIRECTION'] == 'PROVIDER_TO_GRID') * -1) + ((bids_june_2024['ENERGY_PRICE_PAYMENT_DIRECTION'] == 'GRID_TO_PROVIDER') * 1))\n",
    "\n",
    "# Sort by Dalivery_date, product then energy price (check order)\n",
    "bids_sorted = bids_june_2024.sort_values(['DELIVERY_DATE','PRODUCT','ENERGY_PRICE_[EUR/MWh]'])\n",
    "\n",
    "# Cumulative sums of offered capacity\n",
    "bids_sorted['sum_cap'] = bids_sorted.groupby(['DELIVERY_DATE','PRODUCT'])['OFFERED_CAPACITY_[MW]'].cumsum()\n",
    "\n",
    "bids_activated = bids_sorted.set_index(['DELIVERY_DATE','PRODUCT'])\n"
   ]
  },
  {
   "cell_type": "code",
   "execution_count": 52,
   "id": "78a1b2c6-4a6b-4401-b9d8-31b009019cee",
   "metadata": {},
   "outputs": [
    {
     "data": {
      "text/plain": [
       "PRODUCT\n",
       "NEG_001     -353\n",
       "NEG_002     -310\n",
       "NEG_003     -250\n",
       "NEG_004     -361\n",
       "NEG_005     -492\n",
       "           ...  \n",
       "POS_092      971\n",
       "POS_093    11843\n",
       "POS_094     5552\n",
       "POS_095     4790\n",
       "POS_096     2428\n",
       "Name: ENERGY_PRICE_[EUR/MWh], Length: 192, dtype: int64"
      ]
     },
     "execution_count": 52,
     "metadata": {},
     "output_type": "execute_result"
    }
   ],
   "source": [
    "# Aligning activation and bidding data\n",
    "\n",
    "# Join both\n",
    "bids_activated['act'] = combined_activated['ACTIVATED']\n",
    "\n",
    "# Keep only activated energy bids (exclude partially activated)\n",
    "bids_activated = bids_activated[bids_activated['sum_cap'] < bids_activated['act'].astype(float)]\n",
    "\n",
    "#bids_activated[(bids_activated.index.get_level_values('DELIVERY_DATE') == pd.to_datetime('2024-06-05')) & (bids_activated.index.get_level_values('PRODUCT') == 'POS_048')]# == [pd.to_datetime('2024-06-01'), 'NEG_001']]\n",
    "# Daily activation cost (assuming full activation for 15min) \n",
    "#((bids_activated['ENERGY_PRICE_[EUR/MWh]'].groupby('DELIVERY_DATE').sum())/4).astype(int)\n",
    "((bids_activated['ENERGY_PRICE_[EUR/MWh]'].groupby('PRODUCT').sum())/4).astype(int)"
   ]
  }
 ],
 "metadata": {
  "kernelspec": {
   "display_name": "Python 3 (ipykernel)",
   "language": "python",
   "name": "python3"
  },
  "language_info": {
   "codemirror_mode": {
    "name": "ipython",
    "version": 3
   },
   "file_extension": ".py",
   "mimetype": "text/x-python",
   "name": "python",
   "nbconvert_exporter": "python",
   "pygments_lexer": "ipython3",
   "version": "3.12.3"
  }
 },
 "nbformat": 4,
 "nbformat_minor": 5
}
